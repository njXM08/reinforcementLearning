{
  "cells": [
    {
      "cell_type": "markdown",
      "metadata": {
        "id": "view-in-github",
        "colab_type": "text"
      },
      "source": [
        "<a href=\"https://colab.research.google.com/github/njXM08/reinforcementLearning/blob/main/DQN_Tutorial_Cartpole.ipynb\" target=\"_parent\"><img src=\"https://colab.research.google.com/assets/colab-badge.svg\" alt=\"Open In Colab\"/></a>"
      ]
    },
    {
      "cell_type": "markdown",
      "metadata": {
        "id": "klGNgWREsvQv"
      },
      "source": [
        "##### Copyright 2021 The TF-Agents Authors."
      ]
    },
    {
      "cell_type": "code",
      "execution_count": 1,
      "metadata": {
        "cellView": "form",
        "id": "nQnmcm0oI1Q-"
      },
      "outputs": [],
      "source": [
        "#@title Licensed under the Apache License, Version 2.0 (the \"License\");\n",
        "# you may not use this file except in compliance with the License.\n",
        "# You may obtain a copy of the License at\n",
        "#\n",
        "# https://www.apache.org/licenses/LICENSE-2.0\n",
        "#\n",
        "# Unless required by applicable law or agreed to in writing, software\n",
        "# distributed under the License is distributed on an \"AS IS\" BASIS,\n",
        "# WITHOUT WARRANTIES OR CONDITIONS OF ANY KIND, either express or implied.\n",
        "# See the License for the specific language governing permissions and\n",
        "# limitations under the License."
      ]
    },
    {
      "cell_type": "markdown",
      "metadata": {
        "id": "pmDI-h7cI0tI"
      },
      "source": [
        "# Train a Deep Q Network with TF-Agents\n",
        "\n",
        "<table class=\"tfo-notebook-buttons\" align=\"left\">\n",
        "  <td>\n",
        "    <a target=\"_blank\" href=\"https://www.tensorflow.org/agents/tutorials/1_dqn_tutorial\">\n",
        "    <img src=\"https://www.tensorflow.org/images/tf_logo_32px.png\" />\n",
        "    View on TensorFlow.org</a>\n",
        "  </td>\n",
        "  <td>\n",
        "    <a target=\"_blank\" href=\"https://colab.research.google.com/github/tensorflow/agents/blob/master/docs/tutorials/1_dqn_tutorial.ipynb\">\n",
        "    <img src=\"https://www.tensorflow.org/images/colab_logo_32px.png\" />\n",
        "    Run in Google Colab</a>\n",
        "  </td>\n",
        "  <td>\n",
        "    <a target=\"_blank\" href=\"https://github.com/tensorflow/agents/blob/master/docs/tutorials/1_dqn_tutorial.ipynb\">\n",
        "    <img src=\"https://www.tensorflow.org/images/GitHub-Mark-32px.png\" />\n",
        "    View source on GitHub</a>\n",
        "  </td>\n",
        "  <td>\n",
        "    <a href=\"https://storage.googleapis.com/tensorflow_docs/agents/docs/tutorials/1_dqn_tutorial.ipynb\"><img src=\"https://www.tensorflow.org/images/download_logo_32px.png\" />Download notebook</a>\n",
        "  </td>\n",
        "</table>"
      ]
    },
    {
      "cell_type": "markdown",
      "metadata": {
        "id": "lsaQlK8fFQqH"
      },
      "source": [
        "## Introduction\n"
      ]
    },
    {
      "cell_type": "markdown",
      "metadata": {
        "id": "cKOCZlhUgXVK"
      },
      "source": [
        "This example shows how to train a [DQN (Deep Q Networks)](https://storage.googleapis.com/deepmind-media/dqn/DQNNaturePaper.pdf)  agent on the Cartpole environment using the TF-Agents library.\n",
        "\n",
        "![Cartpole environment](https://raw.githubusercontent.com/tensorflow/agents/master/docs/tutorials/images/cartpole.png)\n",
        "\n",
        "Components in a Reinforcement Learning (RL) pipeline for training, evaluation and data collection.\n"
      ]
    },
    {
      "cell_type": "markdown",
      "metadata": {
        "id": "1u9QVVsShC9X"
      },
      "source": [
        "## Setup"
      ]
    },
    {
      "cell_type": "markdown",
      "metadata": {
        "id": "kNrNXKI7bINP"
      },
      "source": [
        "Install dependencies as needed: tf-agents, pyvirtualdisplay"
      ]
    },
    {
      "cell_type": "code",
      "execution_count": 2,
      "metadata": {
        "id": "KEHR2Ui-lo8O",
        "colab": {
          "base_uri": "https://localhost:8080/"
        },
        "outputId": "6784f374-99fe-4303-d6b1-77b2a507e1a8"
      },
      "outputs": [
        {
          "output_type": "stream",
          "name": "stdout",
          "text": [
            "\r0% [Working]\r            \rGet:1 http://ppa.launchpad.net/c2d4u.team/c2d4u4.0+/ubuntu bionic InRelease [15.9 kB]\n",
            "\r0% [Connecting to archive.ubuntu.com (185.125.190.36)] [Connecting to security.\r0% [Connecting to archive.ubuntu.com (185.125.190.36)] [Connecting to security.\r                                                                               \rHit:2 http://archive.ubuntu.com/ubuntu bionic InRelease\n",
            "\r0% [Waiting for headers] [Connecting to security.ubuntu.com (91.189.91.38)] [Co\r0% [1 InRelease gpgv 15.9 kB] [Waiting for headers] [Connecting to security.ubu\r                                                                               \rHit:3 http://ppa.launchpad.net/cran/libgit2/ubuntu bionic InRelease\n",
            "\r0% [1 InRelease gpgv 15.9 kB] [Waiting for headers] [Connecting to security.ubu\r                                                                               \rGet:4 http://archive.ubuntu.com/ubuntu bionic-updates InRelease [88.7 kB]\n",
            "\r0% [1 InRelease gpgv 15.9 kB] [4 InRelease 8,192 B/88.7 kB 9%] [Connecting to s\r                                                                               \rHit:5 http://ppa.launchpad.net/deadsnakes/ppa/ubuntu bionic InRelease\n",
            "\r0% [1 InRelease gpgv 15.9 kB] [4 InRelease 38.8 kB/88.7 kB 44%] [Connecting to \r                                                                               \rGet:6 https://cloud.r-project.org/bin/linux/ubuntu bionic-cran40/ InRelease [3,626 B]\n",
            "\r0% [1 InRelease gpgv 15.9 kB] [4 InRelease 73.6 kB/88.7 kB 83%] [Connecting to \r0% [1 InRelease gpgv 15.9 kB] [4 InRelease 75.0 kB/88.7 kB 85%] [Connecting to \r0% [1 InRelease gpgv 15.9 kB] [Waiting for headers] [Waiting for headers] [Wait\r                                                                               \rHit:7 http://ppa.launchpad.net/graphics-drivers/ppa/ubuntu bionic InRelease\n",
            "\r0% [1 InRelease gpgv 15.9 kB] [Waiting for headers] [Waiting for headers] [Wait\r                                                                               \rGet:8 http://archive.ubuntu.com/ubuntu bionic-backports InRelease [74.6 kB]\n",
            "\r0% [1 InRelease gpgv 15.9 kB] [8 InRelease 41.6 kB/74.6 kB 56%] [Waiting for he\r                                                                               \r0% [1 InRelease gpgv 15.9 kB] [Waiting for headers] [Waiting for headers]\r                                                                         \rGet:9 http://security.ubuntu.com/ubuntu bionic-security InRelease [88.7 kB]\n",
            "Ign:10 https://developer.download.nvidia.com/compute/cuda/repos/ubuntu1804/x86_64  InRelease\n",
            "Get:11 http://ppa.launchpad.net/c2d4u.team/c2d4u4.0+/ubuntu bionic/main Sources [1,950 kB]\n",
            "Ign:12 https://developer.download.nvidia.com/compute/machine-learning/repos/ubuntu1804/x86_64  InRelease\n",
            "Hit:13 https://developer.download.nvidia.com/compute/cuda/repos/ubuntu1804/x86_64  Release\n",
            "Hit:14 https://developer.download.nvidia.com/compute/machine-learning/repos/ubuntu1804/x86_64  Release\n",
            "Get:15 http://ppa.launchpad.net/c2d4u.team/c2d4u4.0+/ubuntu bionic/main amd64 Packages [999 kB]\n",
            "Get:16 http://archive.ubuntu.com/ubuntu bionic-updates/main amd64 Packages [3,165 kB]\n",
            "Get:17 http://archive.ubuntu.com/ubuntu bionic-updates/universe amd64 Packages [2,272 kB]\n",
            "Get:18 http://archive.ubuntu.com/ubuntu bionic-updates/restricted amd64 Packages [941 kB]\n",
            "Get:21 http://security.ubuntu.com/ubuntu bionic-security/restricted amd64 Packages [907 kB]\n",
            "Get:22 http://security.ubuntu.com/ubuntu bionic-security/main amd64 Packages [2,728 kB]\n",
            "Get:23 http://security.ubuntu.com/ubuntu bionic-security/universe amd64 Packages [1,496 kB]\n",
            "Fetched 14.7 MB in 2s (6,002 kB/s)\n",
            "Reading package lists... Done\n",
            "Reading package lists... Done\n",
            "Building dependency tree       \n",
            "Reading state information... Done\n",
            "freeglut3-dev is already the newest version (2.8.1-3).\n",
            "freeglut3-dev set to manually installed.\n",
            "ffmpeg is already the newest version (7:3.4.8-0ubuntu0.2).\n",
            "The following NEW packages will be installed:\n",
            "  xvfb\n",
            "0 upgraded, 1 newly installed, 0 to remove and 49 not upgraded.\n",
            "Need to get 784 kB of archives.\n",
            "After this operation, 2,271 kB of additional disk space will be used.\n",
            "Get:1 http://archive.ubuntu.com/ubuntu bionic-updates/universe amd64 xvfb amd64 2:1.19.6-1ubuntu4.10 [784 kB]\n",
            "Fetched 784 kB in 0s (7,005 kB/s)\n",
            "debconf: unable to initialize frontend: Dialog\n",
            "debconf: (No usable dialog-like program is installed, so the dialog based frontend cannot be used. at /usr/share/perl5/Debconf/FrontEnd/Dialog.pm line 76, <> line 1.)\n",
            "debconf: falling back to frontend: Readline\n",
            "debconf: unable to initialize frontend: Readline\n",
            "debconf: (This frontend requires a controlling tty.)\n",
            "debconf: falling back to frontend: Teletype\n",
            "dpkg-preconfigure: unable to re-open stdin: \n",
            "Selecting previously unselected package xvfb.\n",
            "(Reading database ... 155501 files and directories currently installed.)\n",
            "Preparing to unpack .../xvfb_2%3a1.19.6-1ubuntu4.10_amd64.deb ...\n",
            "Unpacking xvfb (2:1.19.6-1ubuntu4.10) ...\n",
            "Setting up xvfb (2:1.19.6-1ubuntu4.10) ...\n",
            "Processing triggers for man-db (2.8.3-2ubuntu0.1) ...\n",
            "Collecting imageio==2.4.0\n",
            "  Downloading imageio-2.4.0.tar.gz (3.3 MB)\n",
            "\u001b[K     |████████████████████████████████| 3.3 MB 10.5 MB/s \n",
            "\u001b[?25hRequirement already satisfied: numpy in /usr/local/lib/python3.7/dist-packages (from imageio==2.4.0) (1.21.6)\n",
            "Requirement already satisfied: pillow in /usr/local/lib/python3.7/dist-packages (from imageio==2.4.0) (7.1.2)\n",
            "Building wheels for collected packages: imageio\n",
            "  Building wheel for imageio (setup.py) ... \u001b[?25l\u001b[?25hdone\n",
            "  Created wheel for imageio: filename=imageio-2.4.0-py3-none-any.whl size=3303895 sha256=bbe0ef5fbb44c868c1aad0692b2370279d349dfd36e9e638054d2950018357ce\n",
            "  Stored in directory: /root/.cache/pip/wheels/aa/de/2f/6c5a75120d68a2c3138120c8d0ce1c6f9483a4b96307986bf2\n",
            "Successfully built imageio\n",
            "Installing collected packages: imageio\n",
            "  Attempting uninstall: imageio\n",
            "    Found existing installation: imageio 2.4.1\n",
            "    Uninstalling imageio-2.4.1:\n",
            "      Successfully uninstalled imageio-2.4.1\n",
            "\u001b[31mERROR: pip's dependency resolver does not currently take into account all the packages that are installed. This behaviour is the source of the following dependency conflicts.\n",
            "albumentations 0.1.12 requires imgaug<0.2.7,>=0.2.5, but you have imgaug 0.2.9 which is incompatible.\u001b[0m\n",
            "Successfully installed imageio-2.4.0\n",
            "Collecting pyvirtualdisplay\n",
            "  Downloading PyVirtualDisplay-3.0-py3-none-any.whl (15 kB)\n",
            "Installing collected packages: pyvirtualdisplay\n",
            "Successfully installed pyvirtualdisplay-3.0\n",
            "Collecting tf-agents[reverb]\n",
            "  Downloading tf_agents-0.12.1-py3-none-any.whl (1.3 MB)\n",
            "\u001b[K     |████████████████████████████████| 1.3 MB 6.3 MB/s \n",
            "\u001b[?25hRequirement already satisfied: six>=1.10.0 in /usr/local/lib/python3.7/dist-packages (from tf-agents[reverb]) (1.15.0)\n",
            "Requirement already satisfied: gin-config>=0.4.0 in /usr/local/lib/python3.7/dist-packages (from tf-agents[reverb]) (0.5.0)\n",
            "Collecting pygame==2.1.0\n",
            "  Downloading pygame-2.1.0-cp37-cp37m-manylinux_2_17_x86_64.manylinux2014_x86_64.whl (18.3 MB)\n",
            "\u001b[K     |████████████████████████████████| 18.3 MB 87 kB/s \n",
            "\u001b[?25hRequirement already satisfied: cloudpickle>=1.3 in /usr/local/lib/python3.7/dist-packages (from tf-agents[reverb]) (1.3.0)\n",
            "Requirement already satisfied: wrapt>=1.11.1 in /usr/local/lib/python3.7/dist-packages (from tf-agents[reverb]) (1.14.0)\n",
            "Requirement already satisfied: gym>=0.17.0 in /usr/local/lib/python3.7/dist-packages (from tf-agents[reverb]) (0.17.3)\n",
            "Requirement already satisfied: numpy>=1.13.3 in /usr/local/lib/python3.7/dist-packages (from tf-agents[reverb]) (1.21.6)\n",
            "Requirement already satisfied: tensorflow-probability>=0.16.0 in /usr/local/lib/python3.7/dist-packages (from tf-agents[reverb]) (0.16.0)\n",
            "Requirement already satisfied: protobuf>=3.11.3 in /usr/local/lib/python3.7/dist-packages (from tf-agents[reverb]) (3.17.3)\n",
            "Requirement already satisfied: pillow in /usr/local/lib/python3.7/dist-packages (from tf-agents[reverb]) (7.1.2)\n",
            "Requirement already satisfied: typing-extensions>=3.7.4.3 in /usr/local/lib/python3.7/dist-packages (from tf-agents[reverb]) (4.1.1)\n",
            "Requirement already satisfied: absl-py>=0.6.1 in /usr/local/lib/python3.7/dist-packages (from tf-agents[reverb]) (1.0.0)\n",
            "Requirement already satisfied: tensorflow~=2.8.0 in /usr/local/lib/python3.7/dist-packages (from tf-agents[reverb]) (2.8.0)\n",
            "Collecting dm-reverb~=0.7.0\n",
            "  Downloading dm_reverb-0.7.1-cp37-cp37m-manylinux2010_x86_64.whl (6.4 MB)\n",
            "\u001b[K     |████████████████████████████████| 6.4 MB 58.0 MB/s \n",
            "\u001b[?25hRequirement already satisfied: dm-tree in /usr/local/lib/python3.7/dist-packages (from dm-reverb~=0.7.0->tf-agents[reverb]) (0.1.7)\n",
            "Requirement already satisfied: portpicker in /usr/local/lib/python3.7/dist-packages (from dm-reverb~=0.7.0->tf-agents[reverb]) (1.3.9)\n",
            "Requirement already satisfied: scipy in /usr/local/lib/python3.7/dist-packages (from gym>=0.17.0->tf-agents[reverb]) (1.4.1)\n",
            "Requirement already satisfied: pyglet<=1.5.0,>=1.4.0 in /usr/local/lib/python3.7/dist-packages (from gym>=0.17.0->tf-agents[reverb]) (1.5.0)\n",
            "Requirement already satisfied: future in /usr/local/lib/python3.7/dist-packages (from pyglet<=1.5.0,>=1.4.0->gym>=0.17.0->tf-agents[reverb]) (0.16.0)\n",
            "Requirement already satisfied: gast>=0.2.1 in /usr/local/lib/python3.7/dist-packages (from tensorflow~=2.8.0->tf-agents[reverb]) (0.5.3)\n",
            "Requirement already satisfied: termcolor>=1.1.0 in /usr/local/lib/python3.7/dist-packages (from tensorflow~=2.8.0->tf-agents[reverb]) (1.1.0)\n",
            "Requirement already satisfied: grpcio<2.0,>=1.24.3 in /usr/local/lib/python3.7/dist-packages (from tensorflow~=2.8.0->tf-agents[reverb]) (1.44.0)\n",
            "Requirement already satisfied: tensorflow-io-gcs-filesystem>=0.23.1 in /usr/local/lib/python3.7/dist-packages (from tensorflow~=2.8.0->tf-agents[reverb]) (0.24.0)\n",
            "Requirement already satisfied: flatbuffers>=1.12 in /usr/local/lib/python3.7/dist-packages (from tensorflow~=2.8.0->tf-agents[reverb]) (2.0)\n",
            "Requirement already satisfied: tensorboard<2.9,>=2.8 in /usr/local/lib/python3.7/dist-packages (from tensorflow~=2.8.0->tf-agents[reverb]) (2.8.0)\n",
            "Requirement already satisfied: keras-preprocessing>=1.1.1 in /usr/local/lib/python3.7/dist-packages (from tensorflow~=2.8.0->tf-agents[reverb]) (1.1.2)\n",
            "Requirement already satisfied: keras<2.9,>=2.8.0rc0 in /usr/local/lib/python3.7/dist-packages (from tensorflow~=2.8.0->tf-agents[reverb]) (2.8.0)\n",
            "Requirement already satisfied: libclang>=9.0.1 in /usr/local/lib/python3.7/dist-packages (from tensorflow~=2.8.0->tf-agents[reverb]) (13.0.0)\n",
            "Requirement already satisfied: opt-einsum>=2.3.2 in /usr/local/lib/python3.7/dist-packages (from tensorflow~=2.8.0->tf-agents[reverb]) (3.3.0)\n",
            "Requirement already satisfied: google-pasta>=0.1.1 in /usr/local/lib/python3.7/dist-packages (from tensorflow~=2.8.0->tf-agents[reverb]) (0.2.0)\n",
            "Requirement already satisfied: h5py>=2.9.0 in /usr/local/lib/python3.7/dist-packages (from tensorflow~=2.8.0->tf-agents[reverb]) (3.1.0)\n",
            "Requirement already satisfied: astunparse>=1.6.0 in /usr/local/lib/python3.7/dist-packages (from tensorflow~=2.8.0->tf-agents[reverb]) (1.6.3)\n",
            "Collecting tf-estimator-nightly==2.8.0.dev2021122109\n",
            "  Downloading tf_estimator_nightly-2.8.0.dev2021122109-py2.py3-none-any.whl (462 kB)\n",
            "\u001b[K     |████████████████████████████████| 462 kB 64.3 MB/s \n",
            "\u001b[?25hRequirement already satisfied: setuptools in /usr/local/lib/python3.7/dist-packages (from tensorflow~=2.8.0->tf-agents[reverb]) (57.4.0)\n",
            "Requirement already satisfied: wheel<1.0,>=0.23.0 in /usr/local/lib/python3.7/dist-packages (from astunparse>=1.6.0->tensorflow~=2.8.0->tf-agents[reverb]) (0.37.1)\n",
            "Requirement already satisfied: cached-property in /usr/local/lib/python3.7/dist-packages (from h5py>=2.9.0->tensorflow~=2.8.0->tf-agents[reverb]) (1.5.2)\n",
            "Requirement already satisfied: google-auth-oauthlib<0.5,>=0.4.1 in /usr/local/lib/python3.7/dist-packages (from tensorboard<2.9,>=2.8->tensorflow~=2.8.0->tf-agents[reverb]) (0.4.6)\n",
            "Requirement already satisfied: werkzeug>=0.11.15 in /usr/local/lib/python3.7/dist-packages (from tensorboard<2.9,>=2.8->tensorflow~=2.8.0->tf-agents[reverb]) (1.0.1)\n",
            "Requirement already satisfied: tensorboard-plugin-wit>=1.6.0 in /usr/local/lib/python3.7/dist-packages (from tensorboard<2.9,>=2.8->tensorflow~=2.8.0->tf-agents[reverb]) (1.8.1)\n",
            "Requirement already satisfied: google-auth<3,>=1.6.3 in /usr/local/lib/python3.7/dist-packages (from tensorboard<2.9,>=2.8->tensorflow~=2.8.0->tf-agents[reverb]) (1.35.0)\n",
            "Requirement already satisfied: markdown>=2.6.8 in /usr/local/lib/python3.7/dist-packages (from tensorboard<2.9,>=2.8->tensorflow~=2.8.0->tf-agents[reverb]) (3.3.6)\n",
            "Requirement already satisfied: requests<3,>=2.21.0 in /usr/local/lib/python3.7/dist-packages (from tensorboard<2.9,>=2.8->tensorflow~=2.8.0->tf-agents[reverb]) (2.23.0)\n",
            "Requirement already satisfied: tensorboard-data-server<0.7.0,>=0.6.0 in /usr/local/lib/python3.7/dist-packages (from tensorboard<2.9,>=2.8->tensorflow~=2.8.0->tf-agents[reverb]) (0.6.1)\n",
            "Requirement already satisfied: cachetools<5.0,>=2.0.0 in /usr/local/lib/python3.7/dist-packages (from google-auth<3,>=1.6.3->tensorboard<2.9,>=2.8->tensorflow~=2.8.0->tf-agents[reverb]) (4.2.4)\n",
            "Requirement already satisfied: pyasn1-modules>=0.2.1 in /usr/local/lib/python3.7/dist-packages (from google-auth<3,>=1.6.3->tensorboard<2.9,>=2.8->tensorflow~=2.8.0->tf-agents[reverb]) (0.2.8)\n",
            "Requirement already satisfied: rsa<5,>=3.1.4 in /usr/local/lib/python3.7/dist-packages (from google-auth<3,>=1.6.3->tensorboard<2.9,>=2.8->tensorflow~=2.8.0->tf-agents[reverb]) (4.8)\n",
            "Requirement already satisfied: requests-oauthlib>=0.7.0 in /usr/local/lib/python3.7/dist-packages (from google-auth-oauthlib<0.5,>=0.4.1->tensorboard<2.9,>=2.8->tensorflow~=2.8.0->tf-agents[reverb]) (1.3.1)\n",
            "Requirement already satisfied: importlib-metadata>=4.4 in /usr/local/lib/python3.7/dist-packages (from markdown>=2.6.8->tensorboard<2.9,>=2.8->tensorflow~=2.8.0->tf-agents[reverb]) (4.11.3)\n",
            "Requirement already satisfied: zipp>=0.5 in /usr/local/lib/python3.7/dist-packages (from importlib-metadata>=4.4->markdown>=2.6.8->tensorboard<2.9,>=2.8->tensorflow~=2.8.0->tf-agents[reverb]) (3.8.0)\n",
            "Requirement already satisfied: pyasn1<0.5.0,>=0.4.6 in /usr/local/lib/python3.7/dist-packages (from pyasn1-modules>=0.2.1->google-auth<3,>=1.6.3->tensorboard<2.9,>=2.8->tensorflow~=2.8.0->tf-agents[reverb]) (0.4.8)\n",
            "Requirement already satisfied: chardet<4,>=3.0.2 in /usr/local/lib/python3.7/dist-packages (from requests<3,>=2.21.0->tensorboard<2.9,>=2.8->tensorflow~=2.8.0->tf-agents[reverb]) (3.0.4)\n",
            "Requirement already satisfied: urllib3!=1.25.0,!=1.25.1,<1.26,>=1.21.1 in /usr/local/lib/python3.7/dist-packages (from requests<3,>=2.21.0->tensorboard<2.9,>=2.8->tensorflow~=2.8.0->tf-agents[reverb]) (1.24.3)\n",
            "Requirement already satisfied: certifi>=2017.4.17 in /usr/local/lib/python3.7/dist-packages (from requests<3,>=2.21.0->tensorboard<2.9,>=2.8->tensorflow~=2.8.0->tf-agents[reverb]) (2021.10.8)\n",
            "Requirement already satisfied: idna<3,>=2.5 in /usr/local/lib/python3.7/dist-packages (from requests<3,>=2.21.0->tensorboard<2.9,>=2.8->tensorflow~=2.8.0->tf-agents[reverb]) (2.10)\n",
            "Requirement already satisfied: oauthlib>=3.0.0 in /usr/local/lib/python3.7/dist-packages (from requests-oauthlib>=0.7.0->google-auth-oauthlib<0.5,>=0.4.1->tensorboard<2.9,>=2.8->tensorflow~=2.8.0->tf-agents[reverb]) (3.2.0)\n",
            "Requirement already satisfied: decorator in /usr/local/lib/python3.7/dist-packages (from tensorflow-probability>=0.16.0->tf-agents[reverb]) (4.4.2)\n",
            "Installing collected packages: tf-estimator-nightly, pygame, tf-agents, dm-reverb\n",
            "Successfully installed dm-reverb-0.7.1 pygame-2.1.0 tf-agents-0.12.1 tf-estimator-nightly-2.8.0.dev2021122109\n",
            "Requirement already satisfied: pyglet in /usr/local/lib/python3.7/dist-packages (1.5.0)\n",
            "Requirement already satisfied: future in /usr/local/lib/python3.7/dist-packages (from pyglet) (0.16.0)\n"
          ]
        }
      ],
      "source": [
        "!sudo apt-get update\n",
        "!sudo apt-get install -y xvfb ffmpeg freeglut3-dev\n",
        "!pip install 'imageio==2.4.0'\n",
        "!pip install pyvirtualdisplay\n",
        "!pip install tf-agents[reverb]\n",
        "!pip install pyglet"
      ]
    },
    {
      "cell_type": "code",
      "execution_count": 3,
      "metadata": {
        "id": "sMitx5qSgJk1"
      },
      "outputs": [],
      "source": [
        "from __future__ import absolute_import, division, print_function\n",
        "\n",
        "import base64\n",
        "import imageio\n",
        "import IPython\n",
        "import matplotlib\n",
        "import matplotlib.pyplot as plt\n",
        "import numpy as np\n",
        "import PIL.Image\n",
        "import pyvirtualdisplay\n",
        "import reverb\n",
        "\n",
        "import tensorflow as tf\n",
        "\n",
        "from tf_agents.agents.dqn import dqn_agent\n",
        "from tf_agents.drivers import py_driver\n",
        "from tf_agents.environments import suite_gym\n",
        "from tf_agents.environments import tf_py_environment\n",
        "from tf_agents.eval import metric_utils\n",
        "from tf_agents.metrics import tf_metrics\n",
        "from tf_agents.networks import sequential\n",
        "from tf_agents.policies import py_tf_eager_policy\n",
        "from tf_agents.policies import random_tf_policy\n",
        "from tf_agents.replay_buffers import reverb_replay_buffer\n",
        "from tf_agents.replay_buffers import reverb_utils\n",
        "from tf_agents.trajectories import trajectory\n",
        "from tf_agents.specs import tensor_spec\n",
        "from tf_agents.utils import common"
      ]
    },
    {
      "cell_type": "markdown",
      "source": [
        "Virtual display for rendering OpenAI gym environments."
      ],
      "metadata": {
        "id": "wRoXO5LWPDnD"
      }
    },
    {
      "cell_type": "code",
      "execution_count": 4,
      "metadata": {
        "id": "J6HsdS5GbSjd"
      },
      "outputs": [],
      "source": [
        "# Set up a virtual display for rendering OpenAI gym environments.\n",
        "display = pyvirtualdisplay.Display(visible=0, size=(1400, 900)).start()"
      ]
    },
    {
      "cell_type": "code",
      "execution_count": 5,
      "metadata": {
        "id": "NspmzG4nP3b9",
        "colab": {
          "base_uri": "https://localhost:8080/",
          "height": 35
        },
        "outputId": "825fff2e-8da3-480e-f2e8-92ce8bcecb10"
      },
      "outputs": [
        {
          "output_type": "execute_result",
          "data": {
            "text/plain": [
              "'2.8.0'"
            ],
            "application/vnd.google.colaboratory.intrinsic+json": {
              "type": "string"
            }
          },
          "metadata": {},
          "execution_count": 5
        }
      ],
      "source": [
        "tf.version.VERSION"
      ]
    },
    {
      "cell_type": "markdown",
      "metadata": {
        "id": "LmC0NDhdLIKY"
      },
      "source": [
        "## Hyperparameters"
      ]
    },
    {
      "cell_type": "code",
      "execution_count": 6,
      "metadata": {
        "id": "HC1kNrOsLSIZ"
      },
      "outputs": [],
      "source": [
        "num_iterations = 20000 # @param {type:\"integer\"}\n",
        "\n",
        "initial_collect_steps = 100  # @param {type:\"integer\"}\n",
        "collect_steps_per_iteration =   1# @param {type:\"integer\"}\n",
        "replay_buffer_max_length = 100000  # @param {type:\"integer\"}\n",
        "\n",
        "batch_size = 64  # @param {type:\"integer\"}\n",
        "learning_rate = 1e-3  # @param {type:\"number\"}\n",
        "log_interval = 200  # @param {type:\"integer\"}\n",
        "\n",
        "num_eval_episodes = 10  # @param {type:\"integer\"}\n",
        "eval_interval = 1000  # @param {type:\"integer\"}"
      ]
    },
    {
      "cell_type": "markdown",
      "metadata": {
        "id": "VMsJC3DEgI0x"
      },
      "source": [
        "## Environment\n",
        "\n",
        "In Reinforcement Learning (RL), an environment represents the task or problem to be solved. \n",
        "Standard environments can be created in TF-Agents using **`tf_agents.environments` suites**. TF-Agents has suites for loading environments from sources such as the **OpenAI Gym, Atari, and DM Control**.\n",
        "\n",
        "Load the CartPole environment from the OpenAI Gym suite. "
      ]
    },
    {
      "cell_type": "code",
      "execution_count": 7,
      "metadata": {
        "id": "pYEz-S9gEv2-"
      },
      "outputs": [],
      "source": [
        "env_name = 'CartPole-v0'\n",
        "env = suite_gym.load(env_name)"
      ]
    },
    {
      "cell_type": "markdown",
      "source": [
        "Time step information:\n",
        "*   observation: Environment state(s) that the agent can observe to choose its actions at the next step.\n",
        "*   reward: The agent is learning to maximize the (expected) sum of these rewards across multiple steps.\n",
        "* step_type: Interactions with the environment are usually part of a sequence/episode. e.g. multiple moves in a game of chess. step_type can be either FIRST, MID or LAST to indicate whether this time step is the first, intermediate or last step in a sequence.\n",
        "* discount: This is a float (<1.0) representing how much to weight the reward at the next time step relative to the reward at the current time step.\n",
        "These are grouped into a named tuple **TimeStep(step_type, reward, discount, observation)**."
      ],
      "metadata": {
        "id": "dhvtjbyU1sR8"
      }
    },
    {
      "cell_type": "code",
      "source": [
        "print('action_spec:', env.action_spec())\n",
        "print('time_step_spec.observation:', env.time_step_spec().observation)\n",
        "print('time_step_spec.step_type:', env.time_step_spec().step_type)\n",
        "print('time_step_spec.discount:', env.time_step_spec().discount)\n",
        "print('time_step_spec.reward:', env.time_step_spec().reward)"
      ],
      "metadata": {
        "id": "WeX3TvFJ1rTg",
        "colab": {
          "base_uri": "https://localhost:8080/"
        },
        "outputId": "57fad46a-26ab-45ef-f244-591ea1d3d50f"
      },
      "execution_count": 8,
      "outputs": [
        {
          "output_type": "stream",
          "name": "stdout",
          "text": [
            "action_spec: BoundedArraySpec(shape=(), dtype=dtype('int64'), name='action', minimum=0, maximum=1)\n",
            "time_step_spec.observation: BoundedArraySpec(shape=(4,), dtype=dtype('float32'), name='observation', minimum=[-4.8000002e+00 -3.4028235e+38 -4.1887903e-01 -3.4028235e+38], maximum=[4.8000002e+00 3.4028235e+38 4.1887903e-01 3.4028235e+38])\n",
            "time_step_spec.step_type: ArraySpec(shape=(), dtype=dtype('int32'), name='step_type')\n",
            "time_step_spec.discount: BoundedArraySpec(shape=(), dtype=dtype('float32'), name='discount', minimum=0.0, maximum=1.0)\n",
            "time_step_spec.reward: ArraySpec(shape=(), dtype=dtype('float32'), name='reward')\n"
          ]
        }
      ]
    },
    {
      "cell_type": "markdown",
      "metadata": {
        "id": "IIHYVBkuvPNw"
      },
      "source": [
        "You can render this environment to see how it looks. A free-swinging pole is attached to a cart.  The goal is to move the cart right or left in order to keep the pole pointing up."
      ]
    },
    {
      "cell_type": "code",
      "execution_count": 9,
      "metadata": {
        "id": "RlO7WIQHu_7D",
        "colab": {
          "base_uri": "https://localhost:8080/",
          "height": 417
        },
        "outputId": "5876da66-1196-4e19-8238-5adf80630ad2"
      },
      "outputs": [
        {
          "output_type": "execute_result",
          "data": {
            "text/plain": [
              "<PIL.Image.Image image mode=RGB size=600x400 at 0x7FF0CE795A50>"
            ],
            "image/png": "[encoded data removed]"
          },
          "metadata": {},
          "execution_count": 9
        }
      ],
      "source": [
        "#@test {\"skip\": true}\n",
        "env.reset()\n",
        "PIL.Image.fromarray(env.render())"
      ]
    },
    {
      "cell_type": "markdown",
      "metadata": {
        "id": "B9_lskPOey18"
      },
      "source": [
        "The `environment.step` method takes an `action` in the environment and returns a `TimeStep` tuple containing the next observation of the environment and the reward for the action.\n",
        "\n",
        "The `time_step_spec()` method returns the **specification** for the `TimeStep` tuple. Its `observation` attribute shows the shape of observations, the data types, and the ranges of allowed values. The `reward` attribute shows the same details for the reward.\n"
      ]
    },
    {
      "cell_type": "code",
      "execution_count": 10,
      "metadata": {
        "id": "exDv57iHfwQV",
        "colab": {
          "base_uri": "https://localhost:8080/"
        },
        "outputId": "0f044672-6755-4b76-a48f-35e8365cfae0"
      },
      "outputs": [
        {
          "output_type": "stream",
          "name": "stdout",
          "text": [
            "Observation Spec:\n",
            "BoundedArraySpec(shape=(4,), dtype=dtype('float32'), name='observation', minimum=[-4.8000002e+00 -3.4028235e+38 -4.1887903e-01 -3.4028235e+38], maximum=[4.8000002e+00 3.4028235e+38 4.1887903e-01 3.4028235e+38])\n"
          ]
        }
      ],
      "source": [
        "print('Observation Spec:')\n",
        "print(env.time_step_spec().observation)"
      ]
    },
    {
      "cell_type": "code",
      "execution_count": 11,
      "metadata": {
        "id": "UxiSyCbBUQPi",
        "colab": {
          "base_uri": "https://localhost:8080/"
        },
        "outputId": "de7e1b55-7087-4232-9db2-dfac04ecf657"
      },
      "outputs": [
        {
          "output_type": "stream",
          "name": "stdout",
          "text": [
            "Reward Spec:\n",
            "ArraySpec(shape=(), dtype=dtype('float32'), name='reward')\n"
          ]
        }
      ],
      "source": [
        "print('Reward Spec:')\n",
        "print(env.time_step_spec().reward)"
      ]
    },
    {
      "cell_type": "markdown",
      "metadata": {
        "id": "b_lHcIcqUaqB"
      },
      "source": [
        "The `action_spec()` method returns the shape, data types, and allowed values of valid actions."
      ]
    },
    {
      "cell_type": "code",
      "execution_count": 12,
      "metadata": {
        "id": "bttJ4uxZUQBr",
        "colab": {
          "base_uri": "https://localhost:8080/"
        },
        "outputId": "27139ca5-46bc-46e3-c869-b79269a8e62a"
      },
      "outputs": [
        {
          "output_type": "stream",
          "name": "stdout",
          "text": [
            "Action Spec:\n",
            "BoundedArraySpec(shape=(), dtype=dtype('int64'), name='action', minimum=0, maximum=1)\n"
          ]
        }
      ],
      "source": [
        "print('Action Spec:')\n",
        "print(env.action_spec())"
      ]
    },
    {
      "cell_type": "markdown",
      "metadata": {
        "id": "eJCgJnx3g0yY"
      },
      "source": [
        "In the Cartpole environment:\n",
        "\n",
        "-   `observation` is an array of 4 floats: \n",
        "    -   the position and velocity of the cart\n",
        "    -   the angular position and velocity of the pole \n",
        "-   `reward` is a scalar float value\n",
        "-   `action` is a scalar integer with only two possible values:\n",
        "    -   `0` — \"move left\"\n",
        "    -   `1` — \"move right\"\n",
        "\n",
        "**next_timestep = evn.step(action)** to get info after an action."
      ]
    },
    {
      "cell_type": "code",
      "execution_count": 13,
      "metadata": {
        "id": "V2UGR5t_iZX-",
        "colab": {
          "base_uri": "https://localhost:8080/"
        },
        "outputId": "24257af0-d58d-456c-c47d-bdd2551e3570"
      },
      "outputs": [
        {
          "output_type": "stream",
          "name": "stdout",
          "text": [
            "Time step:\n",
            "TimeStep(\n",
            "{'discount': array(1., dtype=float32),\n",
            " 'observation': array([-0.00802   ,  0.04320471, -0.02154959,  0.02259161], dtype=float32),\n",
            " 'reward': array(0., dtype=float32),\n",
            " 'step_type': array(0, dtype=int32)})\n",
            "Next time step:\n",
            "TimeStep(\n",
            "{'discount': array(1., dtype=float32),\n",
            " 'observation': array([-0.00715591,  0.23862897, -0.02109776, -0.2768118 ], dtype=float32),\n",
            " 'reward': array(1., dtype=float32),\n",
            " 'step_type': array(1, dtype=int32)})\n"
          ]
        }
      ],
      "source": [
        "time_step = env.reset()\n",
        "print('Time step:')\n",
        "print(time_step)\n",
        "\n",
        "action = np.array(1, dtype=np.int32)\n",
        "\n",
        "next_time_step = env.step(action)\n",
        "print('Next time step:')\n",
        "print(next_time_step)"
      ]
    },
    {
      "cell_type": "markdown",
      "metadata": {
        "id": "4JSc9GviWUBK"
      },
      "source": [
        "Usually two environments are instantiated: one for training and one for evaluation. "
      ]
    },
    {
      "cell_type": "code",
      "execution_count": 14,
      "metadata": {
        "id": "N7brXNIGWXjC"
      },
      "outputs": [],
      "source": [
        "train_py_env = suite_gym.load(env_name)\n",
        "eval_py_env = suite_gym.load(env_name)"
      ]
    },
    {
      "cell_type": "markdown",
      "metadata": {
        "id": "zuUqXAVmecTU"
      },
      "source": [
        "The Cartpole environment, like most environments, is written in pure Python. This is converted to TensorFlow using the `TFPyEnvironment` wrapper.\n",
        "\n",
        "The original environment's API uses Numpy arrays. The **`TFPyEnvironment` converts numpy arrays to `Tensors`** to make it compatible with Tensorflow agents and policies.\n"
      ]
    },
    {
      "cell_type": "code",
      "execution_count": 15,
      "metadata": {
        "id": "Xp-Y4mD6eDhF"
      },
      "outputs": [],
      "source": [
        "train_env = tf_py_environment.TFPyEnvironment(train_py_env)\n",
        "eval_env = tf_py_environment.TFPyEnvironment(eval_py_env)"
      ]
    },
    {
      "cell_type": "markdown",
      "metadata": {
        "id": "E9lW_OZYFR8A"
      },
      "source": [
        "## Agent\n",
        "\n",
        "The algorithm used to solve an RL problem is represented by an `Agent`. TF-Agents provides standard implementations of a variety of `Agents`, including:\n",
        "\n",
        "-   [DQN](https://storage.googleapis.com/deepmind-media/dqn/DQNNaturePaper.pdf) (used in this tutorial)\n",
        "-   [REINFORCE](https://www-anw.cs.umass.edu/~barto/courses/cs687/williams92simple.pdf)\n",
        "-   [DDPG](https://arxiv.org/pdf/1509.02971.pdf)\n",
        "-   [TD3](https://arxiv.org/pdf/1802.09477.pdf)\n",
        "-   [PPO](https://arxiv.org/abs/1707.06347)\n",
        "-   [SAC](https://arxiv.org/abs/1801.01290)\n",
        "\n",
        "The DeepQvalueNetwork (DQN) agent can be used in any environment which has a discrete action space.\n",
        "\n",
        "At the heart of a DQN Agent is a `QNetwork`, a neural network model that can learn to predict **`QValues` (expected returns)** for all actions, given an observation from the environment.\n",
        "\n",
        "We will use `tf_agents.networks.` to create a `QNetwork` (from tf_agents.networks import sequential). The network will consist of a sequence of `tf.keras.layers.Dense` layers, where the final layer will have 1 output for each possible action -> Q-value."
      ]
    },
    {
      "cell_type": "code",
      "execution_count": 16,
      "metadata": {
        "id": "TgkdEPg_muzV"
      },
      "outputs": [],
      "source": [
        "\n",
        "# convert py action_spec to tensor action_spec\n",
        "action_tensor_spec = tensor_spec.from_spec(env.action_spec())\n",
        "\n",
        "# action cardinality\n",
        "num_actions = action_tensor_spec.maximum - action_tensor_spec.minimum + 1\n",
        "\n",
        "# Define a helper function to create Dense layers configured with the right\n",
        "# activation and kernel initializer.\n",
        "def dense_layer(num_units):\n",
        "  return tf.keras.layers.Dense(\n",
        "      num_units,\n",
        "      activation=tf.keras.activations.relu,\n",
        "      kernel_initializer=tf.keras.initializers.VarianceScaling(\n",
        "          scale=2.0, mode='fan_in', distribution='truncated_normal'))\n",
        "\n",
        "fc_layer_params = (100, 50)\n",
        "\n",
        "# QNetwork as a DNN consists of a sequence of Dense layers followed by a dense layer\n",
        "# with `num_actions` units to generate one q_value per available action as\n",
        "# its output. -> q_value per action (linear layer w./o. activation)\n",
        "dense_layers = [dense_layer(num_units) for num_units in fc_layer_params]\n",
        "q_values_layer = tf.keras.layers.Dense(\n",
        "    num_actions,\n",
        "    activation=None,\n",
        "    kernel_initializer=tf.keras.initializers.RandomUniform(\n",
        "        minval=-0.03, maxval=0.03),\n",
        "    bias_initializer=tf.keras.initializers.Constant(-0.2))\n",
        "\n",
        "# from tf_agents.networks import sequential\n",
        "q_net = sequential.Sequential(dense_layers + [q_values_layer])"
      ]
    },
    {
      "cell_type": "markdown",
      "metadata": {
        "id": "z62u55hSmviJ"
      },
      "source": [
        "Now use `tf_agents.agents.dqn.dqn_agent` to instantiate a `DqnAgent`. In addition to the `time_step_spec`, `action_spec` and the QNetwork, the agent constructor also requires an **optimizer** (in this case, `AdamOptimizer`), **a loss function, and an integer step counter**."
      ]
    },
    {
      "cell_type": "code",
      "execution_count": 17,
      "metadata": {
        "id": "jbY4yrjTEyc9"
      },
      "outputs": [],
      "source": [
        "optimizer = tf.keras.optimizers.Adam(learning_rate=learning_rate)\n",
        "\n",
        "train_step_counter = tf.Variable(0)\n",
        "\n",
        "# from tf_agents.agents.dqn import dqn_agent\n",
        "agent = dqn_agent.DqnAgent(\n",
        "    train_env.time_step_spec(),\n",
        "    train_env.action_spec(),\n",
        "    q_network=q_net,   # tf_agents.networks.sequential.Sequential\n",
        "    optimizer=optimizer,\n",
        "    td_errors_loss_fn=common.element_wise_squared_loss,  # from tf_agents.utils import common\n",
        "    train_step_counter=train_step_counter)\n",
        "\n",
        "agent.initialize()"
      ]
    },
    {
      "cell_type": "markdown",
      "metadata": {
        "id": "I0KLrEPwkn5x"
      },
      "source": [
        "## Policies\n",
        "\n",
        "A policy defines the way an agent acts in an environment. Typically, the goal of reinforcement learning is to train the underlying model until the policy produces the desired outcome -> **training to find an \"optimal policy\"**.\n",
        "\n",
        "In this tutorial:\n",
        "\n",
        "-   The desired outcome is keeping the pole balanced upright over the cart.\n",
        "-   The policy returns an action (left or right) for each `time_step` observation.\n",
        "\n",
        "Agents contain two policies: \n",
        "\n",
        "-   **`agent.policy`** — The main policy that is used for evaluation and deployment.\n",
        "-   **`agent.collect_policy`** — A second policy that is used for data collection.\n"
      ]
    },
    {
      "cell_type": "code",
      "execution_count": 18,
      "metadata": {
        "id": "BwY7StuMkuV4"
      },
      "outputs": [],
      "source": [
        "eval_policy = agent.policy\n",
        "collect_policy = agent.collect_policy"
      ]
    },
    {
      "cell_type": "markdown",
      "metadata": {
        "id": "2Qs1Fl3dV0ae"
      },
      "source": [
        "Policies can be created independently of agents. For example, use `tf_agents.policies.random_tf_policy` to create a policy which will randomly select an action for each `time_step`."
      ]
    },
    {
      "cell_type": "code",
      "execution_count": 19,
      "metadata": {
        "id": "HE37-UCIrE69"
      },
      "outputs": [],
      "source": [
        "random_policy = random_tf_policy.RandomTFPolicy(train_env.time_step_spec(),\n",
        "                                                train_env.action_spec())"
      ]
    },
    {
      "cell_type": "markdown",
      "metadata": {
        "id": "dOlnlRRsUbxP"
      },
      "source": [
        "To get an action from a policy, call the **`policy.action(time_step)`** method. The `time_step` contains the observation from the environment. This method returns a **`PolicyStep`**, which is a named tuple with three components:\n",
        "\n",
        "-   `action` — the action to be taken (in this case, `0` or `1`)\n",
        "-   `state` — used for stateful (that is, RNN-based) policies\n",
        "-   `info` — auxiliary data, such as log probabilities of actions"
      ]
    },
    {
      "cell_type": "code",
      "execution_count": 20,
      "metadata": {
        "id": "5gCcpXswVAxk"
      },
      "outputs": [],
      "source": [
        "example_environment = tf_py_environment.TFPyEnvironment(\n",
        "    suite_gym.load('CartPole-v0'))"
      ]
    },
    {
      "cell_type": "code",
      "execution_count": 21,
      "metadata": {
        "id": "D4DHZtq3Ndis"
      },
      "outputs": [],
      "source": [
        "time_step = example_environment.reset()"
      ]
    },
    {
      "cell_type": "code",
      "execution_count": 22,
      "metadata": {
        "id": "PRFqAUzpNaAW"
      },
      "outputs": [],
      "source": [
        "policyStep = random_policy.action(time_step)"
      ]
    },
    {
      "cell_type": "markdown",
      "metadata": {
        "id": "94rCXQtbUbXv"
      },
      "source": [
        "## Metrics and Evaluation\n",
        "\n",
        "The most common metric used to evaluate a policy is the **average return**. The return is the sum of rewards obtained while running a policy in an environment for an episode. Several episodes are run, creating an average return. -> empirical expectation\n",
        "\n",
        "The following function computes the average return of a policy, given the policy, environment, and a number of episodes.\n"
      ]
    },
    {
      "cell_type": "code",
      "execution_count": 23,
      "metadata": {
        "id": "bitzHo5_UbXy"
      },
      "outputs": [],
      "source": [
        "#@test {\"skip\": true}\n",
        "def compute_avg_return(environment, policy, num_episodes=10):\n",
        "\n",
        "  total_return = 0.0\n",
        "  for _ in range(num_episodes):\n",
        "\n",
        "    time_step = environment.reset()\n",
        "    episode_return = 0.0\n",
        "\n",
        "    # go through an episode (till last time_step)\n",
        "    while not time_step.is_last():\n",
        "      action_step = policy.action(time_step)\n",
        "      time_step = environment.step(action_step.action)\n",
        "      episode_return += time_step.reward\n",
        "      \n",
        "    total_return += episode_return\n",
        "\n",
        "  avg_return = total_return / num_episodes\n",
        "  return avg_return.numpy()[0]\n",
        "\n",
        "\n",
        "# See also the metrics module for standard implementations of different metrics.\n",
        "# https://github.com/tensorflow/agents/tree/master/tf_agents/metrics"
      ]
    },
    {
      "cell_type": "markdown",
      "metadata": {
        "id": "_snCVvq5Z8lJ"
      },
      "source": [
        "Running this computation on the `random_policy` shows a baseline performance in the environment."
      ]
    },
    {
      "cell_type": "code",
      "execution_count": 24,
      "metadata": {
        "id": "9bgU6Q6BZ8Bp",
        "colab": {
          "base_uri": "https://localhost:8080/"
        },
        "outputId": "7879232f-4624-4008-f778-0eff9d487cbe"
      },
      "outputs": [
        {
          "output_type": "execute_result",
          "data": {
            "text/plain": [
              "22.8"
            ]
          },
          "metadata": {},
          "execution_count": 24
        }
      ],
      "source": [
        "compute_avg_return(eval_env, random_policy, num_eval_episodes)"
      ]
    },
    {
      "cell_type": "markdown",
      "metadata": {
        "id": "NLva6g2jdWgr"
      },
      "source": [
        "## Replay Buffer\n",
        "\n",
        "In order to keep track of the data collected from the environment, we will use [Reverb](https://deepmind.com/research/open-source/Reverb), an efficient, extensible, and easy-to-use replay system by Deepmind. It stores experience data when we collect trajectories and is consumed during training.\n",
        "\n",
        "This **replay buffer** is constructed using specs describing the tensors that are to be stored, which can be obtained from the agent using **agent.collect_data_spec**.\n"
      ]
    },
    {
      "cell_type": "code",
      "execution_count": 25,
      "metadata": {
        "id": "vX2zGUWJGWAl"
      },
      "outputs": [],
      "source": [
        "table_name = 'uniform_table'\n",
        "replay_buffer_signature = tensor_spec.from_spec(\n",
        "      agent.collect_data_spec)\n",
        "\n",
        "#????\n",
        "replay_buffer_signature = tensor_spec.add_outer_dim(\n",
        "    replay_buffer_signature)\n",
        "\n",
        "# import reverb\n",
        "table = reverb.Table(\n",
        "    table_name,\n",
        "    max_size=replay_buffer_max_length,\n",
        "    sampler=reverb.selectors.Uniform(),\n",
        "    remover=reverb.selectors.Fifo(),\n",
        "    rate_limiter=reverb.rate_limiters.MinSize(1),\n",
        "    signature=replay_buffer_signature)\n",
        "\n",
        "reverb_server = reverb.Server([table])\n",
        "\n",
        "replay_buffer = reverb_replay_buffer.ReverbReplayBuffer(\n",
        "    agent.collect_data_spec,\n",
        "    table_name=table_name,\n",
        "    sequence_length=2,\n",
        "    local_server=reverb_server)\n",
        "\n",
        "rb_observer = reverb_utils.ReverbAddTrajectoryObserver(\n",
        "  replay_buffer.py_client,\n",
        "  table_name,\n",
        "  sequence_length=2)"
      ]
    },
    {
      "cell_type": "markdown",
      "metadata": {
        "id": "ZGNTDJpZs4NN"
      },
      "source": [
        "For most agents, `collect_data_spec` is a named tuple called `Trajectory`, containing the specs for observations, actions, rewards, and other items."
      ]
    },
    {
      "cell_type": "code",
      "execution_count": 26,
      "metadata": {
        "id": "_IZ-3HcqgE1z",
        "colab": {
          "base_uri": "https://localhost:8080/"
        },
        "outputId": "4734aaed-36b5-47c9-e016-2fe43a066a09"
      },
      "outputs": [
        {
          "output_type": "execute_result",
          "data": {
            "text/plain": [
              "Trajectory(\n",
              "{'action': BoundedTensorSpec(shape=(), dtype=tf.int64, name='action', minimum=array(0), maximum=array(1)),\n",
              " 'discount': BoundedTensorSpec(shape=(), dtype=tf.float32, name='discount', minimum=array(0., dtype=float32), maximum=array(1., dtype=float32)),\n",
              " 'next_step_type': TensorSpec(shape=(), dtype=tf.int32, name='step_type'),\n",
              " 'observation': BoundedTensorSpec(shape=(4,), dtype=tf.float32, name='observation', minimum=array([-4.8000002e+00, -3.4028235e+38, -4.1887903e-01, -3.4028235e+38],\n",
              "      dtype=float32), maximum=array([4.8000002e+00, 3.4028235e+38, 4.1887903e-01, 3.4028235e+38],\n",
              "      dtype=float32)),\n",
              " 'policy_info': (),\n",
              " 'reward': TensorSpec(shape=(), dtype=tf.float32, name='reward'),\n",
              " 'step_type': TensorSpec(shape=(), dtype=tf.int32, name='step_type')})"
            ]
          },
          "metadata": {},
          "execution_count": 26
        }
      ],
      "source": [
        "agent.collect_data_spec"
      ]
    },
    {
      "cell_type": "code",
      "execution_count": 27,
      "metadata": {
        "id": "sy6g1tGcfRlw",
        "colab": {
          "base_uri": "https://localhost:8080/"
        },
        "outputId": "7b109fb3-40d4-4bc4-bf1f-732f17d25d81"
      },
      "outputs": [
        {
          "output_type": "execute_result",
          "data": {
            "text/plain": [
              "('step_type',\n",
              " 'observation',\n",
              " 'action',\n",
              " 'policy_info',\n",
              " 'next_step_type',\n",
              " 'reward',\n",
              " 'discount')"
            ]
          },
          "metadata": {},
          "execution_count": 27
        }
      ],
      "source": [
        "agent.collect_data_spec._fields"
      ]
    },
    {
      "cell_type": "markdown",
      "metadata": {
        "id": "rVD5nQ9ZGo8_"
      },
      "source": [
        "## Data Collection\n",
        "\n",
        "Now execute the random policy in the environment for a few steps, recording the data in the replay buffer.\n",
        "\n",
        "Here we are using **'PyDriver' to run the experience collecting loop**. You can learn more about TF Agents driver in our [drivers tutorial](https://www.tensorflow.org/agents/tutorials/4_drivers_tutorial).\n",
        "\n",
        "A common pattern in reinforcement learning is to execute a policy in an environment for a specified number of steps or episodes. This happens, for example, during data collection, evaluation and generating a video of the agent.\n",
        "\n",
        "While this is relatively straightforward to write in python, it is much more complex to write and debug in TensorFlow because it involves **tf.while loops, tf.cond and tf.control_**dependencies. Therefore we abstract this notion of a run loop into a class called driver, and provide well tested implementations both in Python and TensorFlow."
      ]
    },
    {
      "cell_type": "code",
      "execution_count": 28,
      "metadata": {
        "id": "wr1KSAEGG4h9",
        "colab": {
          "base_uri": "https://localhost:8080/"
        },
        "outputId": "9657d84e-34d7-40c2-b1a9-5af7233eda8f"
      },
      "outputs": [
        {
          "output_type": "execute_result",
          "data": {
            "text/plain": [
              "(TimeStep(\n",
              "{'discount': array(1., dtype=float32),\n",
              " 'observation': array([ 0.01191495,  0.21969327, -0.04436744, -0.302917  ], dtype=float32),\n",
              " 'reward': array(1., dtype=float32),\n",
              " 'step_type': array(1, dtype=int32)}),\n",
              " ())"
            ]
          },
          "metadata": {},
          "execution_count": 28
        }
      ],
      "source": [
        "#@test {\"skip\": true}\n",
        "py_driver.PyDriver(\n",
        "    env,\n",
        "    py_tf_eager_policy.PyTFEagerPolicy(\n",
        "      random_policy, use_tf_function=True),\n",
        "    [rb_observer],\n",
        "    max_steps=initial_collect_steps).run(train_py_env.reset())"
      ]
    },
    {
      "cell_type": "markdown",
      "metadata": {
        "id": "84z5pQJdoKxo"
      },
      "source": [
        "The replay buffer is now a collection of Trajectories."
      ]
    },
    {
      "cell_type": "code",
      "execution_count": 29,
      "metadata": {
        "id": "4wZnLu2ViO4E"
      },
      "outputs": [],
      "source": [
        "# For the curious:\n",
        "# Uncomment to peel one of these off and inspect it.\n",
        "# iter(replay_buffer.as_dataset()).next()"
      ]
    },
    {
      "cell_type": "markdown",
      "metadata": {
        "id": "TujU-PMUsKjS"
      },
      "source": [
        "The agent needs access to the **replay buffer**. This is provided by creating an iterable `tf.data.Dataset` pipeline which will feed data to the agent.\n",
        "\n",
        "Each row of the replay buffer only stores a single observation step. But since the DQN Agent needs both the current and next observation to compute the loss, the dataset pipeline will sample two adjacent rows for each item in the batch (`num_steps=2`).\n",
        "\n",
        "This dataset is also optimized by running parallel calls and prefetching data."
      ]
    },
    {
      "cell_type": "code",
      "execution_count": 30,
      "metadata": {
        "id": "ba7bilizt_qW",
        "colab": {
          "base_uri": "https://localhost:8080/"
        },
        "outputId": "e6cfb886-35e8-4901-f88a-960a9e9951f5"
      },
      "outputs": [
        {
          "output_type": "execute_result",
          "data": {
            "text/plain": [
              "<PrefetchDataset element_spec=(Trajectory(\n",
              "{'action': TensorSpec(shape=(64, 2), dtype=tf.int64, name=None),\n",
              " 'discount': TensorSpec(shape=(64, 2), dtype=tf.float32, name=None),\n",
              " 'next_step_type': TensorSpec(shape=(64, 2), dtype=tf.int32, name=None),\n",
              " 'observation': TensorSpec(shape=(64, 2, 4), dtype=tf.float32, name=None),\n",
              " 'policy_info': (),\n",
              " 'reward': TensorSpec(shape=(64, 2), dtype=tf.float32, name=None),\n",
              " 'step_type': TensorSpec(shape=(64, 2), dtype=tf.int32, name=None)}), SampleInfo(key=TensorSpec(shape=(64, 2), dtype=tf.uint64, name=None), probability=TensorSpec(shape=(64, 2), dtype=tf.float64, name=None), table_size=TensorSpec(shape=(64, 2), dtype=tf.int64, name=None), priority=TensorSpec(shape=(64, 2), dtype=tf.float64, name=None)))>"
            ]
          },
          "metadata": {},
          "execution_count": 30
        }
      ],
      "source": [
        "# Dataset generates trajectories with shape [Bx2x...]\n",
        "dataset = replay_buffer.as_dataset(\n",
        "    num_parallel_calls=3,\n",
        "    sample_batch_size=batch_size,\n",
        "    num_steps=2).prefetch(3)\n",
        "\n",
        "dataset"
      ]
    },
    {
      "cell_type": "code",
      "execution_count": 31,
      "metadata": {
        "id": "K13AST-2ppOq",
        "colab": {
          "base_uri": "https://localhost:8080/"
        },
        "outputId": "064e9e44-ab37-4c93-aad2-bc37ba74da96"
      },
      "outputs": [
        {
          "output_type": "stream",
          "name": "stdout",
          "text": [
            "<tensorflow.python.data.ops.iterator_ops.OwnedIterator object at 0x7ff0c032e610>\n"
          ]
        }
      ],
      "source": [
        "iterator = iter(dataset)\n",
        "print(iterator)"
      ]
    },
    {
      "cell_type": "code",
      "execution_count": 32,
      "metadata": {
        "id": "Th5w5Sff0b16"
      },
      "outputs": [],
      "source": [
        "# For the curious:\n",
        "# Uncomment to see what the dataset iterator is feeding to the agent.\n",
        "# Compare this representation of replay data \n",
        "# to the collection of individual trajectories shown earlier.\n",
        "\n",
        "# iterator.next()"
      ]
    },
    {
      "cell_type": "markdown",
      "metadata": {
        "id": "hBc9lj9VWWtZ"
      },
      "source": [
        "## Training the agent\n",
        "\n",
        "Two things must happen during the training loop:\n",
        "\n",
        "-   collect data from the environment\n",
        "-   use that data to train the agent's neural network(s)\n",
        "\n",
        "This example also periodicially evaluates the policy and prints the current score.\n",
        "\n",
        "The following will take ~5 minutes to run."
      ]
    },
    {
      "cell_type": "code",
      "execution_count": 33,
      "metadata": {
        "id": "0pTbJ3PeyF-u",
        "colab": {
          "base_uri": "https://localhost:8080/"
        },
        "outputId": "0fdc17d1-0415-4162-8a0b-dcecc6c1b012"
      },
      "outputs": [
        {
          "output_type": "stream",
          "name": "stdout",
          "text": [
            "CPU times: user 3 µs, sys: 1e+03 ns, total: 4 µs\n",
            "Wall time: 8.58 µs\n",
            "WARNING:tensorflow:From /usr/local/lib/python3.7/dist-packages/tensorflow/python/util/dispatch.py:1082: calling foldr_v2 (from tensorflow.python.ops.functional_ops) with back_prop=False is deprecated and will be removed in a future version.\n",
            "Instructions for updating:\n",
            "back_prop=False is deprecated. Consider using tf.stop_gradient instead.\n",
            "Instead of:\n",
            "results = tf.foldr(fn, elems, back_prop=False)\n",
            "Use:\n",
            "results = tf.nest.map_structure(tf.stop_gradient, tf.foldr(fn, elems))\n",
            "step = 200: loss = 18.555862426757812\n",
            "step = 400: loss = 6.464837074279785\n",
            "step = 600: loss = 14.090435981750488\n",
            "step = 800: loss = 20.426273345947266\n",
            "step = 1000: loss = 89.50564575195312\n",
            "step = 1000: Average Return = 26.899999618530273\n",
            "step = 1200: loss = 95.38426208496094\n",
            "step = 1400: loss = 34.192054748535156\n",
            "step = 1600: loss = 88.98249053955078\n",
            "step = 1800: loss = 301.48895263671875\n",
            "step = 2000: loss = 252.93870544433594\n",
            "step = 2000: Average Return = 76.69999694824219\n",
            "step = 2200: loss = 228.48452758789062\n",
            "step = 2400: loss = 546.1055297851562\n",
            "step = 2600: loss = 508.2245788574219\n",
            "step = 2800: loss = 586.3079833984375\n",
            "step = 3000: loss = 230.10421752929688\n",
            "step = 3000: Average Return = 140.60000610351562\n",
            "step = 3200: loss = 334.63580322265625\n",
            "step = 3400: loss = 112.28262329101562\n",
            "step = 3600: loss = 1630.88232421875\n",
            "step = 3800: loss = 100.43006134033203\n",
            "step = 4000: loss = 775.4093017578125\n",
            "step = 4000: Average Return = 141.89999389648438\n",
            "step = 4200: loss = 651.057861328125\n",
            "step = 4400: loss = 109614.984375\n",
            "step = 4600: loss = 226848.71875\n",
            "step = 4800: loss = 340723.28125\n",
            "step = 5000: loss = 538352.875\n",
            "step = 5000: Average Return = 105.5\n",
            "step = 5200: loss = 572567.375\n",
            "step = 5400: loss = 874447.125\n",
            "step = 5600: loss = 1208756.25\n",
            "step = 5800: loss = 4228013.5\n",
            "step = 6000: loss = 1344721.25\n",
            "step = 6000: Average Return = 92.80000305175781\n",
            "step = 6200: loss = 2551278.5\n",
            "step = 6400: loss = 124640904.0\n",
            "step = 6600: loss = 144390592.0\n",
            "step = 6800: loss = 5378315.5\n",
            "step = 7000: loss = 4509184.5\n",
            "step = 7000: Average Return = 77.30000305175781\n",
            "step = 7200: loss = 22881324.0\n",
            "step = 7400: loss = 6149538.0\n",
            "step = 7600: loss = 6738655.0\n",
            "step = 7800: loss = 7537237.0\n",
            "step = 8000: loss = 12021266.0\n",
            "step = 8000: Average Return = 116.5999984741211\n",
            "step = 8200: loss = 8277843.0\n",
            "step = 8400: loss = 11097606.0\n",
            "step = 8600: loss = 8013719.0\n",
            "step = 8800: loss = 7799736.0\n",
            "step = 9000: loss = 12118657.0\n",
            "step = 9000: Average Return = 163.39999389648438\n",
            "step = 9200: loss = 7980015.5\n",
            "step = 9400: loss = 11775824.0\n",
            "step = 9600: loss = 14012188.0\n",
            "step = 9800: loss = 2494339840.0\n",
            "step = 10000: loss = 7898794.0\n",
            "step = 10000: Average Return = 197.5\n",
            "step = 10200: loss = 9871876.0\n",
            "step = 10400: loss = 9651210.0\n",
            "step = 10600: loss = 715530944.0\n",
            "step = 10800: loss = 6371335.0\n",
            "step = 11000: loss = 15430390.0\n",
            "step = 11000: Average Return = 200.0\n",
            "step = 11200: loss = 23246962.0\n",
            "step = 11400: loss = 13090226.0\n",
            "step = 11600: loss = 4867631.5\n",
            "step = 11800: loss = 8828606.0\n",
            "step = 12000: loss = 15464263.0\n",
            "step = 12000: Average Return = 200.0\n",
            "step = 12200: loss = 22338218.0\n",
            "step = 12400: loss = 7746795.5\n",
            "step = 12600: loss = 16993464.0\n",
            "step = 12800: loss = 1015444224.0\n",
            "step = 13000: loss = 1059415808.0\n",
            "step = 13000: Average Return = 200.0\n",
            "step = 13200: loss = 179601824.0\n",
            "step = 13400: loss = 14368296.0\n",
            "step = 13600: loss = 15483163.0\n",
            "step = 13800: loss = 15620186.0\n",
            "step = 14000: loss = 16754626.0\n",
            "step = 14000: Average Return = 200.0\n",
            "step = 14200: loss = 3472168.25\n",
            "step = 14400: loss = 19979088.0\n",
            "step = 14600: loss = 168875904.0\n",
            "step = 14800: loss = 26352028.0\n",
            "step = 15000: loss = 11723554.0\n",
            "step = 15000: Average Return = 199.1999969482422\n",
            "step = 15200: loss = 7452437.0\n",
            "step = 15400: loss = 20788696.0\n",
            "step = 15600: loss = 20048492.0\n",
            "step = 15800: loss = 30393080.0\n",
            "step = 16000: loss = 15699203.0\n",
            "step = 16000: Average Return = 183.60000610351562\n",
            "step = 16200: loss = 15267022.0\n",
            "step = 16400: loss = 16396510.0\n",
            "step = 16600: loss = 16724334.0\n",
            "step = 16800: loss = 22345604.0\n",
            "step = 17000: loss = 12379198.0\n",
            "step = 17000: Average Return = 126.19999694824219\n",
            "step = 17200: loss = 21876856.0\n",
            "step = 17400: loss = 17080016.0\n",
            "step = 17600: loss = 14649245.0\n",
            "step = 17800: loss = 15131098.0\n",
            "step = 18000: loss = 3349240320.0\n",
            "step = 18000: Average Return = 166.1999969482422\n",
            "step = 18200: loss = 13389111.0\n",
            "step = 18400: loss = 18105244.0\n",
            "step = 18600: loss = 12499721.0\n",
            "step = 18800: loss = 21696708.0\n",
            "step = 19000: loss = 20326704.0\n",
            "step = 19000: Average Return = 164.60000610351562\n",
            "step = 19200: loss = 21041608.0\n",
            "step = 19400: loss = 16735926.0\n",
            "step = 19600: loss = 669852608.0\n",
            "step = 19800: loss = 19740318.0\n",
            "step = 20000: loss = 15427074.0\n",
            "step = 20000: Average Return = 143.60000610351562\n"
          ]
        }
      ],
      "source": [
        "#@test {\"skip\": true}\n",
        "try:\n",
        "  %%time\n",
        "except:\n",
        "  pass\n",
        "\n",
        "# (Optional) Optimize by wrapping some of the code in a graph using TF function.\n",
        "agent.train = common.function(agent.train)\n",
        "\n",
        "# Reset the train step.\n",
        "agent.train_step_counter.assign(0)\n",
        "\n",
        "# Evaluate the agent's policy once before training.\n",
        "avg_return = compute_avg_return(eval_env, agent.policy, num_eval_episodes)\n",
        "returns = [avg_return]\n",
        "\n",
        "# Reset the environment.\n",
        "time_step = train_py_env.reset()\n",
        "\n",
        "# Create a driver to collect experience.\n",
        "collect_driver = py_driver.PyDriver(\n",
        "    env,\n",
        "    py_tf_eager_policy.PyTFEagerPolicy(\n",
        "      agent.collect_policy, use_tf_function=True),\n",
        "    [rb_observer],\n",
        "    max_steps=collect_steps_per_iteration)\n",
        "\n",
        "for _ in range(num_iterations):\n",
        "\n",
        "  # Collect a few steps and save to the replay buffer.\n",
        "  time_step, _ = collect_driver.run(time_step)\n",
        "\n",
        "  # Sample a batch of data from the buffer and update the agent's network.\n",
        "  experience, unused_info = next(iterator)\n",
        "  train_loss = agent.train(experience).loss\n",
        "\n",
        "  step = agent.train_step_counter.numpy()\n",
        "\n",
        "  if step % log_interval == 0:\n",
        "    print('step = {0}: loss = {1}'.format(step, train_loss))\n",
        "\n",
        "  if step % eval_interval == 0:\n",
        "    avg_return = compute_avg_return(eval_env, agent.policy, num_eval_episodes)\n",
        "    print('step = {0}: Average Return = {1}'.format(step, avg_return))\n",
        "    returns.append(avg_return)"
      ]
    },
    {
      "cell_type": "markdown",
      "metadata": {
        "id": "68jNcA_TiJDq"
      },
      "source": [
        "## Visualization\n"
      ]
    },
    {
      "cell_type": "markdown",
      "metadata": {
        "id": "aO-LWCdbbOIC"
      },
      "source": [
        "### Plots\n",
        "\n",
        "Use `matplotlib.pyplot` to chart how the policy improved during training.\n",
        "\n",
        "One iteration of `Cartpole-v0` consists of 200 time steps. The environment gives a reward of `+1` for each step the pole stays up, so the maximum return for one episode is 200. The charts shows the return increasing towards that maximum each time it is evaluated during training. (It may be a little unstable and not increase monotonically each time.)"
      ]
    },
    {
      "cell_type": "code",
      "execution_count": 34,
      "metadata": {
        "id": "NxtL1mbOYCVO",
        "colab": {
          "base_uri": "https://localhost:8080/",
          "height": 301
        },
        "outputId": "1ab7302b-37dd-44d3-af91-b77f319fbda1"
      },
      "outputs": [
        {
          "output_type": "execute_result",
          "data": {
            "text/plain": [
              "(0.1849997997283932, 250.0)"
            ]
          },
          "metadata": {},
          "execution_count": 34
        },
        {
          "output_type": "display_data",
          "data": {
            "text/plain": [
              "<Figure size 432x288 with 1 Axes>"
            ],
            "image/png": "[encoded data removed]"
          },
          "metadata": {
            "needs_background": "light"
          }
        }
      ],
      "source": [
        "#@test {\"skip\": true}\n",
        "\n",
        "iterations = range(0, num_iterations + 1, eval_interval)\n",
        "plt.plot(iterations, returns)\n",
        "plt.ylabel('Average Return')\n",
        "plt.xlabel('Iterations')\n",
        "plt.ylim(top=250)"
      ]
    },
    {
      "cell_type": "markdown",
      "metadata": {
        "id": "M7-XpPP99Cy7"
      },
      "source": [
        "### Videos"
      ]
    },
    {
      "cell_type": "markdown",
      "metadata": {
        "id": "9pGfGxSH32gn"
      },
      "source": [
        "Charts are nice. But more exciting is seeing an agent actually performing a task in an environment. \n",
        "\n",
        "First, create a function to embed videos in the notebook."
      ]
    },
    {
      "cell_type": "code",
      "execution_count": 35,
      "metadata": {
        "id": "ULaGr8pvOKbl"
      },
      "outputs": [],
      "source": [
        "def embed_mp4(filename):\n",
        "  \"\"\"Embeds an mp4 file in the notebook.\"\"\"\n",
        "  video = open(filename,'rb').read()\n",
        "  b64 = base64.b64encode(video)\n",
        "  tag = '''\n",
        "  <video width=\"640\" height=\"480\" controls>\n",
        "    <source src=\"data:video/mp4;base64,{0}\" type=\"video/mp4\">\n",
        "  Your browser does not support the video tag.\n",
        "  </video>'''.format(b64.decode())\n",
        "\n",
        "  return IPython.display.HTML(tag)"
      ]
    },
    {
      "cell_type": "markdown",
      "metadata": {
        "id": "9c_PH-pX4Pr5"
      },
      "source": [
        "Now iterate through a few episodes of the Cartpole game with the agent. The underlying Python environment (the one \"inside\" the TensorFlow environment wrapper) provides a `render()` method, which outputs an image of the environment state. These can be collected into a video."
      ]
    },
    {
      "cell_type": "code",
      "execution_count": 36,
      "metadata": {
        "id": "owOVWB158NlF",
        "colab": {
          "base_uri": "https://localhost:8080/",
          "height": 539
        },
        "outputId": "2b25da4d-bd6c-467d-d4e8-f39177d7ab5e"
      },
      "outputs": [
        {
          "output_type": "stream",
          "name": "stderr",
          "text": [
            "WARNING:root:IMAGEIO FFMPEG_WRITER WARNING: input image is not divisible by macro_block_size=16, resizing from (400, 600) to (400, 608) to ensure video compatibility with most codecs and players. To prevent resizing, make your input image divisible by the macro_block_size or set the macro_block_size to None (risking incompatibility). You may also see a FFMPEG warning concerning speedloss due to data not being aligned.\n"
          ]
        },
        {
          "output_type": "execute_result",
          "data": {
            "text/plain": [
              "<IPython.core.display.HTML object>"
            ],
            "text/html": [
              "\n",
              "  <video width=\"640\" height=\"480\" controls>\n",
              "    <source src=\"data:video/mp4;base64,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\" type=\"video/mp4\">\n",
              "  Your browser does not support the video tag.\n",
              "  </video>"
            ]
          },
          "metadata": {},
          "execution_count": 36
        }
      ],
      "source": [
        "def create_policy_eval_video(policy, filename, num_episodes=5, fps=30):\n",
        "  filename = filename + \".mp4\"\n",
        "  with imageio.get_writer(filename, fps=fps) as video:\n",
        "    for _ in range(num_episodes):\n",
        "      time_step = eval_env.reset()\n",
        "      video.append_data(eval_py_env.render())\n",
        "      while not time_step.is_last():\n",
        "        action_step = policy.action(time_step)\n",
        "        time_step = eval_env.step(action_step.action)\n",
        "        video.append_data(eval_py_env.render())\n",
        "  return embed_mp4(filename)\n",
        "\n",
        "create_policy_eval_video(agent.policy, \"trained-agent\")"
      ]
    },
    {
      "cell_type": "markdown",
      "metadata": {
        "id": "povaAOcZygLw"
      },
      "source": [
        "For fun, compare the trained agent (above) to an agent moving randomly. (It does not do as well.)"
      ]
    },
    {
      "cell_type": "code",
      "execution_count": 37,
      "metadata": {
        "id": "pJZIdC37yNH4",
        "colab": {
          "base_uri": "https://localhost:8080/",
          "height": 539
        },
        "outputId": "875e71f3-1390-418f-b917-59fe2217e9a7"
      },
      "outputs": [
        {
          "output_type": "stream",
          "name": "stderr",
          "text": [
            "WARNING:root:IMAGEIO FFMPEG_WRITER WARNING: input image is not divisible by macro_block_size=16, resizing from (400, 600) to (400, 608) to ensure video compatibility with most codecs and players. To prevent resizing, make your input image divisible by the macro_block_size or set the macro_block_size to None (risking incompatibility). You may also see a FFMPEG warning concerning speedloss due to data not being aligned.\n"
          ]
        },
        {
          "output_type": "execute_result",
          "data": {
            "text/plain": [
              "<IPython.core.display.HTML object>"
            ],
            "text/html": [
              "\n",
              "  <video width=\"640\" height=\"480\" controls>\n",
              "    <source src=\"data:video/mp4;base64,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\" type=\"video/mp4\">\n",
              "  Your browser does not support the video tag.\n",
              "  </video>"
            ]
          },
          "metadata": {},
          "execution_count": 37
        }
      ],
      "source": [
        "create_policy_eval_video(random_policy, \"random-agent\")"
      ]
    }
  ],
  "metadata": {
    "colab": {
      "collapsed_sections": [],
      "name": "DQN Tutorial_Cartpole.ipynb",
      "provenance": [],
      "toc_visible": true,
      "include_colab_link": true
    },
    "kernelspec": {
      "display_name": "Python 3",
      "language": "python",
      "name": "python3"
    },
    "pycharm": {
      "stem_cell": {
        "cell_type": "raw",
        "metadata": {
          "collapsed": false
        },
        "source": []
      }
    },
    "accelerator": "GPU"
  },
  "nbformat": 4,
  "nbformat_minor": 0
}